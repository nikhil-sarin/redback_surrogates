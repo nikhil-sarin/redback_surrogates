{
 "cells": [
  {
   "cell_type": "markdown",
   "id": "778b4f1c",
   "metadata": {},
   "source": [
    "## In this notebook I will show how you can use the Type II surrogate model from Sarin et al. 2025.\n",
    "\n",
    "first lets do some imports"
   ]
  },
  {
   "cell_type": "code",
   "execution_count": null,
   "id": "732b86a5",
   "metadata": {},
   "outputs": [],
   "source": [
    "import redback_surrogates as rs\n",
    "import pandas as pd\n",
    "%pylab inline"
   ]
  },
  {
   "cell_type": "markdown",
   "id": "d81f45f2",
   "metadata": {},
   "source": [
    "### This model requires some extra data which can be easily downloaded via the utility functions in redback_surrogates. This will download/extract/and save the necessary surrogate data to where your packages are installed. "
   ]
  },
  {
   "cell_type": "code",
   "execution_count": null,
   "id": "779c54f7",
   "metadata": {},
   "outputs": [],
   "source": [
    "data_dir = rs.data_management.download_surrogate_data()\n",
    "if data_dir:\n",
    "    print(f\"Surrogate data is available at: {data_dir}\")"
   ]
  },
  {
   "cell_type": "markdown",
   "id": "02178d8f",
   "metadata": {},
   "source": [
    "### Now you are ready to use the model. Note that this is just a general interface to the model. The interface for a model for fitting is as usual available via redback (https://github.com/nikhil-sarin/redback) directly. \n",
    "\n",
    "### This model uses tensorflow which is GPU/CPU agnostic but I recommend turning off the GPU for most-use cases unless you are actually going to take advantage of the GPU"
   ]
  },
  {
   "cell_type": "code",
   "execution_count": null,
   "id": "11431666",
   "metadata": {},
   "outputs": [],
   "source": [
    "import tensorflow as tf\n",
    "tf.config.set_visible_devices([], \"GPU\")"
   ]
  },
  {
   "cell_type": "code",
   "execution_count": null,
   "id": "b79e681c",
   "metadata": {},
   "outputs": [],
   "source": [
    "# Now you can just call the model \n",
    "tts, lbols = rs.supernovamodels.typeII_lbol(10.2, 0.03, -3., 4., 2, 2.5)\n",
    "plt.loglog(tts, lbols)"
   ]
  },
  {
   "cell_type": "code",
   "execution_count": null,
   "id": "6eb0bc54",
   "metadata": {},
   "outputs": [],
   "source": [
    "tts, temp, rad = rs.supernovamodels.typeII_photosphere(10.2, 0.03, -3., 4., 2, 2.5)\n",
    "plt.loglog(tts, temp);\n",
    "plt.loglog(tts, rad)"
   ]
  },
  {
   "cell_type": "code",
   "execution_count": null,
   "id": "a88f901b",
   "metadata": {},
   "outputs": [],
   "source": [
    "out = rs.supernovamodels.typeII_spectra(10.2, 0.03, -3., 4., 2, 2.5)\n",
    "plt.loglog(out.frequency, out.spectrum.T, color='black', alpha=0.1)"
   ]
  },
  {
   "cell_type": "markdown",
   "id": "02f2db7a",
   "metadata": {},
   "source": [
    "### The models can do big batches at once at the same computational cost - Note you will need bilby installed for the example below but its not necessary, I am just using it to make the prior draw e.g.,"
   ]
  },
  {
   "cell_type": "code",
   "execution_count": null,
   "id": "c358446c",
   "metadata": {},
   "outputs": [],
   "source": [
    "# load the prior which defines the ranges where the surrogate model is trained\n",
    "prior = rs.utils.get_priors('typeII_spectra')\n",
    "samples = pd.DataFrame(prior.sample(1000))\n",
    "# now samples is a just a dataframe of values \n",
    "samples"
   ]
  },
  {
   "cell_type": "code",
   "execution_count": null,
   "id": "611e6707",
   "metadata": {},
   "outputs": [],
   "source": [
    "# Now evaluate lbol for all samples at once.\n",
    "tts, lbols = rs.supernovamodels.typeII_lbol(**samples)\n",
    "print(lbols.shape)\n",
    "print(tts.shape)"
   ]
  },
  {
   "cell_type": "code",
   "execution_count": null,
   "id": "9f27c634-ab5d-4771-93dd-9db4c40fcb32",
   "metadata": {},
   "outputs": [],
   "source": []
  },
  {
   "cell_type": "code",
   "execution_count": null,
   "id": "1e812960-9d68-421a-bccf-ff03faa3882d",
   "metadata": {},
   "outputs": [],
   "source": []
  }
 ],
 "metadata": {
  "kernelspec": {
   "display_name": "Python 3 (ipykernel)",
   "language": "python",
   "name": "python3"
  },
  "language_info": {
   "codemirror_mode": {
    "name": "ipython",
    "version": 3
   },
   "file_extension": ".py",
   "mimetype": "text/x-python",
   "name": "python",
   "nbconvert_exporter": "python",
   "pygments_lexer": "ipython3",
   "version": "3.12.11"
  }
 },
 "nbformat": 4,
 "nbformat_minor": 5
}
